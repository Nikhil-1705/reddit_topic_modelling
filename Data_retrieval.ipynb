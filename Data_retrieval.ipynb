{
 "cells": [
  {
   "cell_type": "code",
   "execution_count": 3,
   "metadata": {},
   "outputs": [],
   "source": [
    "from pprint import pprint\n",
    "import numpy as np\n",
    "import pandas as pd\n",
    "import praw\n",
    "from datetime import datetime, timedelta"
   ]
  },
  {
   "cell_type": "code",
   "execution_count": 6,
   "metadata": {},
   "outputs": [
    {
     "name": "stdout",
     "output_type": "stream",
     "text": [
      "Scraped 0 posts. Saved to C:\\Users\\Nikhil Bhandari\\Desktop\\ML Projects\\reddit_smartphone_posts.csv\n"
     ]
    }
   ],
   "source": [
    "import praw\n",
    "import pandas as pd\n",
    "from datetime import datetime, timedelta, timezone\n",
    "import os\n",
    "\n",
    "# Reddit API Authentication\n",
    "reddit = praw.Reddit(\n",
    "    client_id=\"YC5NM4pqMy3pO0XV8CC1Cw\",\n",
    "    client_secret=\"NpqoznHX9h4os8IhpZMoiMqjB8lujQ\",\n",
    "    user_agent=\"Scrapper 1.0\"\n",
    ")\n",
    "\n",
    "# Define subreddits to scrape\n",
    "subreddits = [\"smartphones\", \"Android\", \"iPhone\", \"GooglePixel\", \"Samsung\"]\n",
    "\n",
    "# Define time range (past 6 months)\n",
    "end_time = datetime.now(timezone.utc)  # Use timezone-aware datetime\n",
    "start_time = end_time - timedelta(days=180)\n",
    "\n",
    "# Function to scrape posts\n",
    "def scrape_posts(subreddit_name, start_time, end_time):\n",
    "    subreddit = reddit.subreddit(subreddit_name)\n",
    "    posts = []\n",
    "\n",
    "    try:\n",
    "        # Use search with a time filter to fetch posts within the specified range\n",
    "        query = f\"timestamp:{int(start_time.timestamp())}..{int(end_time.timestamp())}\"\n",
    "        for post in subreddit.search(query, sort=\"new\", limit=300):  # Adjust limit as needed\n",
    "            post_time = datetime.fromtimestamp(post.created_utc, tz=timezone.utc)  # Timezone-aware\n",
    "            posts.append({\n",
    "                \"subreddit\": subreddit_name,\n",
    "                \"title\": post.title,\n",
    "                \"text\": post.selftext,\n",
    "                \"author\": post.author.name if post.author else \"deleted\",\n",
    "                \"upvotes\": post.score,\n",
    "                \"num_comments\": post.num_comments,\n",
    "                \"timestamp\": post_time,\n",
    "                \"post_id\": post.id\n",
    "            })\n",
    "    except Exception as e:\n",
    "        print(f\"Error scraping r/{subreddit_name}: {e}\")\n",
    "\n",
    "    return pd.DataFrame(posts)\n",
    "\n",
    "# Scrape posts from all subreddits\n",
    "all_posts = pd.concat([scrape_posts(sub, start_time, end_time) for sub in subreddits])\n",
    "\n",
    "# Save to CSV\n",
    "output_path = os.path.join(os.path.expanduser(\"~\"), \"Desktop\", \"ML Projects\", \"reddit_smartphone_posts.csv\")\n",
    "all_posts.to_csv(output_path, index=False)\n",
    "\n",
    "print(f\"Scraped {len(all_posts)} posts. Saved to {output_path}\")"
   ]
  },
  {
   "cell_type": "code",
   "execution_count": null,
   "metadata": {},
   "outputs": [],
   "source": [
    "posts_df = pd.read_csv(\"reddit_smartphone_posts.csv\")"
   ]
  },
  {
   "cell_type": "code",
   "execution_count": null,
   "metadata": {},
   "outputs": [],
   "source": [
    "posts_df"
   ]
  },
  {
   "cell_type": "code",
   "execution_count": null,
   "metadata": {},
   "outputs": [],
   "source": []
  }
 ],
 "metadata": {
  "kernelspec": {
   "display_name": "venv6",
   "language": "python",
   "name": "python3"
  },
  "language_info": {
   "codemirror_mode": {
    "name": "ipython",
    "version": 3
   },
   "file_extension": ".py",
   "mimetype": "text/x-python",
   "name": "python",
   "nbconvert_exporter": "python",
   "pygments_lexer": "ipython3",
   "version": "3.12.0"
  }
 },
 "nbformat": 4,
 "nbformat_minor": 2
}
